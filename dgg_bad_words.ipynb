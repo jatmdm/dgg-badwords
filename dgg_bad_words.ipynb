{
  "nbformat": 4,
  "nbformat_minor": 0,
  "metadata": {
    "colab": {
      "name": "dgg bad words.ipynb",
      "version": "0.3.2",
      "provenance": [],
      "collapsed_sections": [],
      "include_colab_link": true
    },
    "kernelspec": {
      "name": "python3",
      "display_name": "Python 3"
    }
  },
  "cells": [
    {
      "cell_type": "markdown",
      "metadata": {
        "id": "view-in-github",
        "colab_type": "text"
      },
      "source": [
        "<a href=\"https://colab.research.google.com/github/jatmdm/dgg-badwords/blob/master/dgg_bad_words.ipynb\" target=\"_parent\"><img src=\"https://colab.research.google.com/assets/colab-badge.svg\" alt=\"Open In Colab\"/></a>"
      ]
    },
    {
      "cell_type": "code",
      "metadata": {
        "id": "hrOPAIIhCAmw",
        "colab_type": "code",
        "colab": {}
      },
      "source": [
        "from datetime import datetime\n",
        "import requests\n",
        "import numpy as np\n",
        "import matplotlib.pyplot as plt\n",
        "import nltk\n",
        "import pandas as pd\n",
        "import collections"
      ],
      "execution_count": 0,
      "outputs": []
    },
    {
      "cell_type": "code",
      "metadata": {
        "id": "VcWgIZqzCKH8",
        "colab_type": "code",
        "colab": {},
        "cellView": "code"
      },
      "source": [
        "user = \"\" #@param {type:\"string\"}\n",
        "base_url = 'https://dgg.overrustlelogs.net/Destinygg%20chatlog/'\n",
        "# user = \"Destiny\"\n",
        "\n",
        "months = ['January', 'February', 'March', 'April', 'May', 'June', 'July', 'August', 'September', 'October', 'November', 'December']\n",
        "# year = 2018\n",
        "years = [2013, 2014, 2015, 2016, 2017, 2018, 2019]\n",
        "req_urls = []\n",
        "m_y = []"
      ],
      "execution_count": 0,
      "outputs": []
    },
    {
      "cell_type": "code",
      "metadata": {
        "id": "HAc5l2bBR5VH",
        "colab_type": "code",
        "colab": {}
      },
      "source": [
        "bad_words = ['chink', 'nigger', 'gook', 'sandnigger', 'fag', 'faggot', 'coon', 'kike']"
      ],
      "execution_count": 0,
      "outputs": []
    },
    {
      "cell_type": "code",
      "metadata": {
        "id": "sicnSQ4bCUGY",
        "colab_type": "code",
        "outputId": "23a8a99a-c842-4547-9e90-fef1113c1f5e",
        "colab": {
          "base_uri": "https://localhost:8080/",
          "height": 54
        }
      },
      "source": [
        "for y in years:\n",
        "  for m in months:\n",
        "    req_urls.append( (m + str(y), base_url + m + '%20' + str(y) + '/userlogs/' + user + '.txt') )\n",
        "print(req_urls)"
      ],
      "execution_count": 209,
      "outputs": [
        {
          "output_type": "stream",
          "text": [
            "[('January2013', 'https://dgg.overrustlelogs.net/Destinygg%20chatlog/January%202013/userlogs/.txt'), ('February2013', 'https://dgg.overrustlelogs.net/Destinygg%20chatlog/February%202013/userlogs/.txt'), ('March2013', 'https://dgg.overrustlelogs.net/Destinygg%20chatlog/March%202013/userlogs/.txt'), ('April2013', 'https://dgg.overrustlelogs.net/Destinygg%20chatlog/April%202013/userlogs/.txt'), ('May2013', 'https://dgg.overrustlelogs.net/Destinygg%20chatlog/May%202013/userlogs/.txt'), ('June2013', 'https://dgg.overrustlelogs.net/Destinygg%20chatlog/June%202013/userlogs/.txt'), ('July2013', 'https://dgg.overrustlelogs.net/Destinygg%20chatlog/July%202013/userlogs/.txt'), ('August2013', 'https://dgg.overrustlelogs.net/Destinygg%20chatlog/August%202013/userlogs/.txt'), ('September2013', 'https://dgg.overrustlelogs.net/Destinygg%20chatlog/September%202013/userlogs/.txt'), ('October2013', 'https://dgg.overrustlelogs.net/Destinygg%20chatlog/October%202013/userlogs/.txt'), ('November2013', 'https://dgg.overrustlelogs.net/Destinygg%20chatlog/November%202013/userlogs/.txt'), ('December2013', 'https://dgg.overrustlelogs.net/Destinygg%20chatlog/December%202013/userlogs/.txt'), ('January2014', 'https://dgg.overrustlelogs.net/Destinygg%20chatlog/January%202014/userlogs/.txt'), ('February2014', 'https://dgg.overrustlelogs.net/Destinygg%20chatlog/February%202014/userlogs/.txt'), ('March2014', 'https://dgg.overrustlelogs.net/Destinygg%20chatlog/March%202014/userlogs/.txt'), ('April2014', 'https://dgg.overrustlelogs.net/Destinygg%20chatlog/April%202014/userlogs/.txt'), ('May2014', 'https://dgg.overrustlelogs.net/Destinygg%20chatlog/May%202014/userlogs/.txt'), ('June2014', 'https://dgg.overrustlelogs.net/Destinygg%20chatlog/June%202014/userlogs/.txt'), ('July2014', 'https://dgg.overrustlelogs.net/Destinygg%20chatlog/July%202014/userlogs/.txt'), ('August2014', 'https://dgg.overrustlelogs.net/Destinygg%20chatlog/August%202014/userlogs/.txt'), ('September2014', 'https://dgg.overrustlelogs.net/Destinygg%20chatlog/September%202014/userlogs/.txt'), ('October2014', 'https://dgg.overrustlelogs.net/Destinygg%20chatlog/October%202014/userlogs/.txt'), ('November2014', 'https://dgg.overrustlelogs.net/Destinygg%20chatlog/November%202014/userlogs/.txt'), ('December2014', 'https://dgg.overrustlelogs.net/Destinygg%20chatlog/December%202014/userlogs/.txt'), ('January2015', 'https://dgg.overrustlelogs.net/Destinygg%20chatlog/January%202015/userlogs/.txt'), ('February2015', 'https://dgg.overrustlelogs.net/Destinygg%20chatlog/February%202015/userlogs/.txt'), ('March2015', 'https://dgg.overrustlelogs.net/Destinygg%20chatlog/March%202015/userlogs/.txt'), ('April2015', 'https://dgg.overrustlelogs.net/Destinygg%20chatlog/April%202015/userlogs/.txt'), ('May2015', 'https://dgg.overrustlelogs.net/Destinygg%20chatlog/May%202015/userlogs/.txt'), ('June2015', 'https://dgg.overrustlelogs.net/Destinygg%20chatlog/June%202015/userlogs/.txt'), ('July2015', 'https://dgg.overrustlelogs.net/Destinygg%20chatlog/July%202015/userlogs/.txt'), ('August2015', 'https://dgg.overrustlelogs.net/Destinygg%20chatlog/August%202015/userlogs/.txt'), ('September2015', 'https://dgg.overrustlelogs.net/Destinygg%20chatlog/September%202015/userlogs/.txt'), ('October2015', 'https://dgg.overrustlelogs.net/Destinygg%20chatlog/October%202015/userlogs/.txt'), ('November2015', 'https://dgg.overrustlelogs.net/Destinygg%20chatlog/November%202015/userlogs/.txt'), ('December2015', 'https://dgg.overrustlelogs.net/Destinygg%20chatlog/December%202015/userlogs/.txt'), ('January2016', 'https://dgg.overrustlelogs.net/Destinygg%20chatlog/January%202016/userlogs/.txt'), ('February2016', 'https://dgg.overrustlelogs.net/Destinygg%20chatlog/February%202016/userlogs/.txt'), ('March2016', 'https://dgg.overrustlelogs.net/Destinygg%20chatlog/March%202016/userlogs/.txt'), ('April2016', 'https://dgg.overrustlelogs.net/Destinygg%20chatlog/April%202016/userlogs/.txt'), ('May2016', 'https://dgg.overrustlelogs.net/Destinygg%20chatlog/May%202016/userlogs/.txt'), ('June2016', 'https://dgg.overrustlelogs.net/Destinygg%20chatlog/June%202016/userlogs/.txt'), ('July2016', 'https://dgg.overrustlelogs.net/Destinygg%20chatlog/July%202016/userlogs/.txt'), ('August2016', 'https://dgg.overrustlelogs.net/Destinygg%20chatlog/August%202016/userlogs/.txt'), ('September2016', 'https://dgg.overrustlelogs.net/Destinygg%20chatlog/September%202016/userlogs/.txt'), ('October2016', 'https://dgg.overrustlelogs.net/Destinygg%20chatlog/October%202016/userlogs/.txt'), ('November2016', 'https://dgg.overrustlelogs.net/Destinygg%20chatlog/November%202016/userlogs/.txt'), ('December2016', 'https://dgg.overrustlelogs.net/Destinygg%20chatlog/December%202016/userlogs/.txt'), ('January2017', 'https://dgg.overrustlelogs.net/Destinygg%20chatlog/January%202017/userlogs/.txt'), ('February2017', 'https://dgg.overrustlelogs.net/Destinygg%20chatlog/February%202017/userlogs/.txt'), ('March2017', 'https://dgg.overrustlelogs.net/Destinygg%20chatlog/March%202017/userlogs/.txt'), ('April2017', 'https://dgg.overrustlelogs.net/Destinygg%20chatlog/April%202017/userlogs/.txt'), ('May2017', 'https://dgg.overrustlelogs.net/Destinygg%20chatlog/May%202017/userlogs/.txt'), ('June2017', 'https://dgg.overrustlelogs.net/Destinygg%20chatlog/June%202017/userlogs/.txt'), ('July2017', 'https://dgg.overrustlelogs.net/Destinygg%20chatlog/July%202017/userlogs/.txt'), ('August2017', 'https://dgg.overrustlelogs.net/Destinygg%20chatlog/August%202017/userlogs/.txt'), ('September2017', 'https://dgg.overrustlelogs.net/Destinygg%20chatlog/September%202017/userlogs/.txt'), ('October2017', 'https://dgg.overrustlelogs.net/Destinygg%20chatlog/October%202017/userlogs/.txt'), ('November2017', 'https://dgg.overrustlelogs.net/Destinygg%20chatlog/November%202017/userlogs/.txt'), ('December2017', 'https://dgg.overrustlelogs.net/Destinygg%20chatlog/December%202017/userlogs/.txt'), ('January2018', 'https://dgg.overrustlelogs.net/Destinygg%20chatlog/January%202018/userlogs/.txt'), ('February2018', 'https://dgg.overrustlelogs.net/Destinygg%20chatlog/February%202018/userlogs/.txt'), ('March2018', 'https://dgg.overrustlelogs.net/Destinygg%20chatlog/March%202018/userlogs/.txt'), ('April2018', 'https://dgg.overrustlelogs.net/Destinygg%20chatlog/April%202018/userlogs/.txt'), ('May2018', 'https://dgg.overrustlelogs.net/Destinygg%20chatlog/May%202018/userlogs/.txt'), ('June2018', 'https://dgg.overrustlelogs.net/Destinygg%20chatlog/June%202018/userlogs/.txt'), ('July2018', 'https://dgg.overrustlelogs.net/Destinygg%20chatlog/July%202018/userlogs/.txt'), ('August2018', 'https://dgg.overrustlelogs.net/Destinygg%20chatlog/August%202018/userlogs/.txt'), ('September2018', 'https://dgg.overrustlelogs.net/Destinygg%20chatlog/September%202018/userlogs/.txt'), ('October2018', 'https://dgg.overrustlelogs.net/Destinygg%20chatlog/October%202018/userlogs/.txt'), ('November2018', 'https://dgg.overrustlelogs.net/Destinygg%20chatlog/November%202018/userlogs/.txt'), ('December2018', 'https://dgg.overrustlelogs.net/Destinygg%20chatlog/December%202018/userlogs/.txt'), ('January2019', 'https://dgg.overrustlelogs.net/Destinygg%20chatlog/January%202019/userlogs/.txt'), ('February2019', 'https://dgg.overrustlelogs.net/Destinygg%20chatlog/February%202019/userlogs/.txt'), ('March2019', 'https://dgg.overrustlelogs.net/Destinygg%20chatlog/March%202019/userlogs/.txt'), ('April2019', 'https://dgg.overrustlelogs.net/Destinygg%20chatlog/April%202019/userlogs/.txt'), ('May2019', 'https://dgg.overrustlelogs.net/Destinygg%20chatlog/May%202019/userlogs/.txt'), ('June2019', 'https://dgg.overrustlelogs.net/Destinygg%20chatlog/June%202019/userlogs/.txt'), ('July2019', 'https://dgg.overrustlelogs.net/Destinygg%20chatlog/July%202019/userlogs/.txt'), ('August2019', 'https://dgg.overrustlelogs.net/Destinygg%20chatlog/August%202019/userlogs/.txt'), ('September2019', 'https://dgg.overrustlelogs.net/Destinygg%20chatlog/September%202019/userlogs/.txt'), ('October2019', 'https://dgg.overrustlelogs.net/Destinygg%20chatlog/October%202019/userlogs/.txt'), ('November2019', 'https://dgg.overrustlelogs.net/Destinygg%20chatlog/November%202019/userlogs/.txt'), ('December2019', 'https://dgg.overrustlelogs.net/Destinygg%20chatlog/December%202019/userlogs/.txt')]\n"
          ],
          "name": "stdout"
        }
      ]
    },
    {
      "cell_type": "code",
      "metadata": {
        "id": "pbmSnejSDU3H",
        "colab_type": "code",
        "colab": {}
      },
      "source": [
        "no_logs_text = \"didn't find any logs for this user\\n\"\n",
        "raw_text = \"\"\n",
        "for url in req_urls:\n",
        "  r = requests.get(url[1])\n",
        "  if r.text[0] is '[': \n",
        "    raw_text += r.text\n",
        "#   print(r.text)"
      ],
      "execution_count": 0,
      "outputs": []
    },
    {
      "cell_type": "code",
      "metadata": {
        "id": "h-SZcFyTFCZN",
        "colab_type": "code",
        "colab": {}
      },
      "source": [
        "raw_logs = raw_text.split('\\n')\n",
        "raw_logs.remove('')\n",
        "    "
      ],
      "execution_count": 0,
      "outputs": []
    },
    {
      "cell_type": "code",
      "metadata": {
        "id": "1Bt1f1XAHjDO",
        "colab_type": "code",
        "colab": {}
      },
      "source": [
        "nsfw_datetime = dict()\n",
        "for log in raw_logs:\n",
        "  temp_date = datetime.strptime(log[1:20], '%Y-%m-%d %H:%M:%S').date()\n",
        "  dt = datetime(temp_date.year, temp_date.month, 1)\n",
        "  text = log[27 + len(user):]\n",
        "  for bw in bad_words:\n",
        "    if \" \" + bw + \" \" in text.lower():\n",
        "      print(log)\n",
        "      if dt not in nsfw_datetime:\n",
        "        nsfw_datetime[dt] = 1\n",
        "      else:\n",
        "        temp = nsfw_datetime[dt]\n",
        "        temp += 1\n",
        "        nsfw_datetime[dt] = temp\n",
        "      break\n",
        "  "
      ],
      "execution_count": 0,
      "outputs": []
    },
    {
      "cell_type": "code",
      "metadata": {
        "id": "2IL13pO4J4Vp",
        "colab_type": "code",
        "colab": {}
      },
      "source": [
        "x = []\n",
        "y = []\n",
        "\n",
        "for xi, yi in nsfw_datetime.items():\n",
        "  x.append(xi)\n",
        "  y.append(yi)"
      ],
      "execution_count": 0,
      "outputs": []
    },
    {
      "cell_type": "code",
      "metadata": {
        "id": "Af_TfAuoJ83L",
        "colab_type": "code",
        "outputId": "fe909f0d-d998-463b-9c26-0caf7a9c8e77",
        "colab": {
          "base_uri": "https://localhost:8080/",
          "height": 553
        }
      },
      "source": [
        " \n",
        "# Get current size\n",
        "fig_size = plt.rcParams[\"figure.figsize\"]\n",
        " \n",
        "# Set figure width to 12 and height to 9\n",
        "fig_size[0] = 12\n",
        "fig_size[1] = 9\n",
        "\n",
        "plt.title(user + \"'s bad word usage over time\")\n",
        "plt.style.use('dark_background')\n",
        "plt.rcParams[\"figure.figsize\"] = fig_size\n",
        "plt.bar(x, y, width=25, alpha=0.5)\n",
        "\n",
        "plt.show()"
      ],
      "execution_count": 214,
      "outputs": [
        {
          "output_type": "display_data",
          "data": {
            "image/png": "[encoded data removed]",
            "text/plain": [
              "<Figure size 864x648 with 1 Axes>"
            ]
          },
          "metadata": {
            "tags": []
          }
        }
      ]
    }
  ]
}